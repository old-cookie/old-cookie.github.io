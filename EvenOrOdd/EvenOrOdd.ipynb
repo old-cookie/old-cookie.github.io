{
 "cells": [
  {
   "cell_type": "code",
   "execution_count": 1,
   "id": "07ac784b",
   "metadata": {},
   "outputs": [],
   "source": [
    "import numpy as np\n",
    "import torch\n",
    "import torch.nn as nn\n",
    "import torch.optim as optim\n",
    "from torch.utils.data import DataLoader, TensorDataset\n",
    "import torch.onnx\n",
    "import onnx\n",
    "import onnxruntime as ort\n",
    "import matplotlib.pyplot as plt\n",
    "import pandas as pd"
   ]
  },
  {
   "cell_type": "code",
   "execution_count": 2,
   "id": "cebc5b74",
   "metadata": {},
   "outputs": [],
   "source": [
    "# Step 1: Generate the dataset\n",
    "def generate_dataset(size=10, save_csv=True, print_sample=True):\n",
    "    # Generate random integers from 1 to 9\n",
    "    numbers = np.random.randint(1, 10, size)\n",
    "    # Label them as 1 for odd, 0 for even\n",
    "    labels = numbers % 2\n",
    "    \n",
    "    # Create simplified DataFrame\n",
    "    df = pd.DataFrame({\n",
    "        'number': numbers,\n",
    "        'label': labels\n",
    "    })\n",
    "    \n",
    "    # Save to CSV if requested\n",
    "    if save_csv:\n",
    "        csv_filename = 'd:/Desktop/ai/even_odd_dataset.csv'\n",
    "        df.to_csv(csv_filename, index=False)\n",
    "        print(f\"Dataset saved to: {csv_filename}\")\n",
    "    \n",
    "    # Print sample of the dataset if requested\n",
    "    if print_sample:\n",
    "        print(\"\\n=== Dataset Sample ===\")\n",
    "        print(f\"Total dataset size: {len(df)}\")\n",
    "        print(\"\\nDataset preview:\")\n",
    "        print(df.head(10))\n",
    "        \n",
    "        print(\"\\n=== Dataset Statistics ===\")\n",
    "        print(f\"Even numbers count: {len(df[df['label'] == 0])}\")\n",
    "        print(f\"Odd numbers count: {len(df[df['label'] == 1])}\")\n",
    "        print(f\"Percentage distribution: {len(df[df['label'] == 0]) / len(df) * 100:.1f}% even, {len(df[df['label'] == 1]) / len(df) * 100:.1f}% odd\")\n",
    "    \n",
    "    return numbers, labels, df"
   ]
  },
  {
   "cell_type": "code",
   "execution_count": 3,
   "id": "b59846d4",
   "metadata": {},
   "outputs": [],
   "source": [
    "# Step 2: Preprocess the data\n",
    "def preprocess_data(numbers, labels):\n",
    "    # Create multiple features to help the neural network learn better\n",
    "    features = []\n",
    "    for num in numbers:\n",
    "        # Feature 1: Last digit (most important for odd/even)\n",
    "        last_digit = num % 10\n",
    "        \n",
    "        # Feature 2: Is last digit even (0) or odd (1)\n",
    "        is_odd_digit = last_digit % 2\n",
    "        \n",
    "        # Feature 3: Normalized last digit\n",
    "        normalized_last_digit = last_digit / 9.0\n",
    "        \n",
    "        # Use multiple features\n",
    "        features.append([normalized_last_digit, is_odd_digit, last_digit / 10.0])\n",
    "    \n",
    "    # Convert to PyTorch tensors\n",
    "    features = torch.tensor(features, dtype=torch.float32)\n",
    "    labels = torch.tensor(labels, dtype=torch.float32).reshape(-1, 1)\n",
    "    return features, labels"
   ]
  },
  {
   "cell_type": "code",
   "execution_count": 4,
   "id": "e9a3479c",
   "metadata": {},
   "outputs": [],
   "source": [
    "# Step 3: Build the AI model\n",
    "class EvenOddModel(nn.Module):\n",
    "    def __init__(self):\n",
    "        super(EvenOddModel, self).__init__()\n",
    "        self.fc1 = nn.Linear(3, 32)  # 3 input features\n",
    "        self.fc2 = nn.Linear(32, 16)\n",
    "        self.fc3 = nn.Linear(16, 8)\n",
    "        self.fc4 = nn.Linear(8, 1)\n",
    "        self.relu = nn.ReLU()\n",
    "        self.sigmoid = nn.Sigmoid()\n",
    "        self.dropout = nn.Dropout(0.2)\n",
    "    \n",
    "    def forward(self, x):\n",
    "        x = self.relu(self.fc1(x))\n",
    "        x = self.dropout(x)\n",
    "        x = self.relu(self.fc2(x))\n",
    "        x = self.dropout(x)\n",
    "        x = self.relu(self.fc3(x))\n",
    "        x = self.sigmoid(self.fc4(x))\n",
    "        return x\n",
    "\n",
    "def build_model():\n",
    "    model = EvenOddModel()\n",
    "    return model\n",
    "\n",
    "# Alternative simplified approach - use the number modulo operation directly as feature\n"
   ]
  },
  {
   "cell_type": "code",
   "execution_count": 5,
   "id": "1adb3cd0",
   "metadata": {},
   "outputs": [],
   "source": [
    "# Step 3.5: Visualize the model architecture\n",
    "def visualize_model(model):\n",
    "    # Display model summary\n",
    "    print(\"Model Summary:\")\n",
    "    print(model)\n",
    "    \n",
    "    # Count parameters\n",
    "    total_params = sum(p.numel() for p in model.parameters())\n",
    "    trainable_params = sum(p.numel() for p in model.parameters() if p.requires_grad)\n",
    "    print(f\"\\nTotal parameters: {total_params}\")\n",
    "    print(f\"Trainable parameters: {trainable_params}\")"
   ]
  },
  {
   "cell_type": "code",
   "execution_count": 6,
   "id": "a003e56f",
   "metadata": {},
   "outputs": [],
   "source": [
    "# Step 4: Train the model\n",
    "def train_model(model, x_train, y_train, epochs=50, batch_size=64):\n",
    "    # Set up loss function and optimizer\n",
    "    criterion = nn.BCELoss()\n",
    "    optimizer = optim.Adam(model.parameters(), lr=0.001)\n",
    "    scheduler = optim.lr_scheduler.StepLR(optimizer, step_size=50, gamma=0.8)\n",
    "    \n",
    "    # Create data loader\n",
    "    dataset = TensorDataset(x_train, y_train)\n",
    "    dataloader = DataLoader(dataset, batch_size=batch_size, shuffle=True)\n",
    "    \n",
    "    model.train()\n",
    "    for epoch in range(epochs):\n",
    "        total_loss = 0\n",
    "        correct = 0\n",
    "        total = 0\n",
    "        \n",
    "        for batch_x, batch_y in dataloader:\n",
    "            optimizer.zero_grad()\n",
    "            outputs = model(batch_x)\n",
    "            loss = criterion(outputs, batch_y)\n",
    "            loss.backward()\n",
    "            optimizer.step()\n",
    "            \n",
    "            total_loss += loss.item()\n",
    "            predicted = (outputs > 0.5).float()\n",
    "            total += batch_y.size(0)\n",
    "            correct += (predicted == batch_y).sum().item()\n",
    "        \n",
    "        scheduler.step()\n",
    "        \n",
    "        if (epoch + 1) % 20 == 0:\n",
    "            accuracy = 100 * correct / total\n",
    "            print(f'Epoch [{epoch+1}/{epochs}], Loss: {total_loss/len(dataloader):.4f}, Accuracy: {accuracy:.2f}%')\n",
    "    \n",
    "    return model"
   ]
  },
  {
   "cell_type": "code",
   "execution_count": 7,
   "id": "5a01d82f",
   "metadata": {},
   "outputs": [],
   "source": [
    "# Step 5: Use the model to predict even/odd\n",
    "def predict_even_or_odd(model, number):\n",
    "    # Use the same feature engineering as training\n",
    "    last_digit = number % 10\n",
    "    is_odd_digit = last_digit % 2\n",
    "    normalized_last_digit = last_digit / 9.0\n",
    "    \n",
    "    # Create the same features as training\n",
    "    features = [normalized_last_digit, is_odd_digit, last_digit / 10.0]\n",
    "    input_tensor = torch.tensor([features], dtype=torch.float32)\n",
    "    \n",
    "    model.eval()\n",
    "    with torch.no_grad():\n",
    "        prediction = model(input_tensor)\n",
    "    \n",
    "    if prediction.item() > 0.5:\n",
    "        return \"odd\"\n",
    "    else:\n",
    "        return \"even\""
   ]
  },
  {
   "cell_type": "code",
   "execution_count": 8,
   "id": "39d9e636",
   "metadata": {},
   "outputs": [],
   "source": [
    "# Step 5.5: Load dataset from CSV\n",
    "def load_dataset_from_csv(csv_path='d:/Desktop/ai/even_odd_dataset.csv'):\n",
    "    try:\n",
    "        df = pd.read_csv(csv_path)\n",
    "        print(f\"Dataset loaded from: {csv_path}\")\n",
    "        print(f\"Dataset shape: {df.shape}\")\n",
    "        print(\"\\nDataset preview:\")\n",
    "        print(df.head())\n",
    "        \n",
    "        numbers = df['number'].values\n",
    "        labels = df['label'].values\n",
    "        \n",
    "        return numbers, labels, df\n",
    "    except FileNotFoundError:\n",
    "        print(f\"CSV file not found at: {csv_path}\")\n",
    "        print(\"Please generate the dataset first.\")\n",
    "        return None, None, None"
   ]
  },
  {
   "cell_type": "markdown",
   "id": "08b9aac6",
   "metadata": {},
   "source": [
    "## Generate and Save Dataset\n",
    "Generate a dataset of 1000 numbers and save it to CSV file with detailed statistics."
   ]
  },
  {
   "cell_type": "code",
   "execution_count": 9,
   "id": "6d37976b",
   "metadata": {},
   "outputs": [
    {
     "name": "stdout",
     "output_type": "stream",
     "text": [
      "=== Generating Dataset ===\n",
      "Dataset saved to: d:/Desktop/ai/even_odd_dataset.csv\n",
      "\n",
      "=== Dataset Sample ===\n",
      "Total dataset size: 1000\n",
      "\n",
      "Dataset preview:\n",
      "   number  label\n",
      "0       8      0\n",
      "1       9      1\n",
      "2       5      1\n",
      "3       2      0\n",
      "4       2      0\n",
      "5       7      1\n",
      "6       1      1\n",
      "7       3      1\n",
      "8       8      0\n",
      "9       3      1\n",
      "\n",
      "=== Dataset Statistics ===\n",
      "Even numbers count: 440\n",
      "Odd numbers count: 560\n",
      "Percentage distribution: 44.0% even, 56.0% odd\n"
     ]
    }
   ],
   "source": [
    "# Generate and save dataset to CSV\n",
    "print(\"=== Generating Dataset ===\")\n",
    "numbers, labels, df = generate_dataset(size=1000, save_csv=True, print_sample=True)"
   ]
  },
  {
   "cell_type": "markdown",
   "id": "7558af1a",
   "metadata": {},
   "source": [
    "## Load Dataset from CSV\n",
    "Load the previously saved dataset from CSV file."
   ]
  },
  {
   "cell_type": "code",
   "execution_count": 10,
   "id": "bad309ba",
   "metadata": {},
   "outputs": [
    {
     "name": "stdout",
     "output_type": "stream",
     "text": [
      "=== Loading Dataset from CSV ===\n",
      "Dataset loaded from: d:/Desktop/ai/even_odd_dataset.csv\n",
      "Dataset shape: (1000, 2)\n",
      "\n",
      "Dataset preview:\n",
      "   number  label\n",
      "0       8      0\n",
      "1       9      1\n",
      "2       5      1\n",
      "3       2      0\n",
      "4       2      0\n",
      "Dataset loaded successfully!\n"
     ]
    }
   ],
   "source": [
    "# Load dataset from CSV\n",
    "print(\"=== Loading Dataset from CSV ===\")\n",
    "loaded_numbers, loaded_labels, loaded_df = load_dataset_from_csv()\n",
    "\n",
    "if loaded_numbers is not None:\n",
    "    print(\"Dataset loaded successfully!\")\n",
    "else:\n",
    "    print(\"Failed to load dataset. Please run the dataset generation cell first.\")"
   ]
  },
  {
   "cell_type": "markdown",
   "id": "47fdaa1b",
   "metadata": {},
   "source": [
    "## Preprocess Data and Build Model\n",
    "Preprocess the loaded data and create the neural network model."
   ]
  },
  {
   "cell_type": "code",
   "execution_count": 11,
   "id": "3f1a8dc6",
   "metadata": {},
   "outputs": [
    {
     "name": "stdout",
     "output_type": "stream",
     "text": [
      "Data preprocessed. Training set size: 1000\n",
      "Model built successfully!\n"
     ]
    }
   ],
   "source": [
    "# Preprocess the data\n",
    "if 'loaded_numbers' in locals() and loaded_numbers is not None:\n",
    "    x_train, y_train = preprocess_data(loaded_numbers, loaded_labels)\n",
    "    print(f\"Data preprocessed. Training set size: {len(x_train)}\")\n",
    "    \n",
    "    # Build the model\n",
    "    model = build_model()\n",
    "    print(\"Model built successfully!\")\n",
    "else:\n",
    "    print(\"Please load the dataset first.\")"
   ]
  },
  {
   "cell_type": "markdown",
   "id": "d9ce767d",
   "metadata": {},
   "source": [
    "## Train the Model\n",
    "Train the neural network on the preprocessed data."
   ]
  },
  {
   "cell_type": "code",
   "execution_count": 12,
   "id": "43a6b490",
   "metadata": {},
   "outputs": [
    {
     "name": "stdout",
     "output_type": "stream",
     "text": [
      "=== Training Model ===\n",
      "Epoch [20/50], Loss: 0.0067, Accuracy: 100.00%\n",
      "Epoch [20/50], Loss: 0.0067, Accuracy: 100.00%\n",
      "Epoch [40/50], Loss: 0.0018, Accuracy: 100.00%\n",
      "Model training completed!\n",
      "Epoch [40/50], Loss: 0.0018, Accuracy: 100.00%\n",
      "Model training completed!\n"
     ]
    }
   ],
   "source": [
    "# Train the model\n",
    "if 'model' in locals() and 'x_train' in locals():\n",
    "    print(\"=== Training Model ===\")\n",
    "    train_model(model, x_train, y_train, epochs=50)\n",
    "    print(\"Model training completed!\")\n",
    "else:\n",
    "    print(\"Please build the model and preprocess data first.\")"
   ]
  },
  {
   "cell_type": "markdown",
   "id": "7308e5ce",
   "metadata": {},
   "source": [
    "## Test Predictions\n",
    "Test the trained model on sample numbers to verify accuracy."
   ]
  },
  {
   "cell_type": "code",
   "execution_count": 13,
   "id": "ac9f6ad9",
   "metadata": {},
   "outputs": [
    {
     "name": "stdout",
     "output_type": "stream",
     "text": [
      "=== Testing Predictions ===\n",
      "Number: 1, Predicted: odd, Actual: odd ✓\n",
      "Number: 2, Predicted: even, Actual: even ✓\n",
      "Number: 3, Predicted: odd, Actual: odd ✓\n",
      "Number: 4, Predicted: even, Actual: even ✓\n",
      "Number: 5, Predicted: odd, Actual: odd ✓\n",
      "Number: 6, Predicted: even, Actual: even ✓\n",
      "Number: 7, Predicted: odd, Actual: odd ✓\n",
      "Number: 8, Predicted: even, Actual: even ✓\n",
      "Number: 9, Predicted: odd, Actual: odd ✓\n",
      "Number: 0, Predicted: even, Actual: even ✓\n"
     ]
    }
   ],
   "source": [
    "# Test predictions\n",
    "if 'model' in locals():\n",
    "    print(\"=== Testing Predictions ===\")\n",
    "    test_numbers = [1, 2, 3, 4, 5, 6, 7, 8, 9, 0]\n",
    "    for num in test_numbers:\n",
    "        prediction = predict_even_or_odd(model, num)\n",
    "        actual = \"odd\" if num % 2 == 1 else \"even\"\n",
    "        status = \"✓\" if prediction == actual else \"✗\"\n",
    "        print(f\"Number: {num}, Predicted: {prediction}, Actual: {actual} {status}\")\n",
    "else:\n",
    "    print(\"Please train the model first.\")"
   ]
  },
  {
   "cell_type": "code",
   "execution_count": 14,
   "id": "21f32201",
   "metadata": {},
   "outputs": [],
   "source": [
    "# Step 6: Save and Load Model\n",
    "def save_model(model, filepath='d:/Desktop/ai/even_odd_model.pth'):\n",
    "    \"\"\"Save the trained model to file\"\"\"\n",
    "    torch.save({\n",
    "        'model_state_dict': model.state_dict(),\n",
    "        'model_architecture': 'EvenOddModel'\n",
    "    }, filepath)\n",
    "    print(f\"Model saved to: {filepath}\")\n",
    "\n",
    "def export_to_onnx(model, filepath='d:/Desktop/ai/even_odd_model.onnx'):\n",
    "    \"\"\"Export the trained model to ONNX format\"\"\"\n",
    "    # Create a dummy input tensor with the same shape as your training data\n",
    "    dummy_input = torch.randn(1, 3)  # Batch size 1, 3 features\n",
    "    \n",
    "    # Export the model\n",
    "    torch.onnx.export(\n",
    "        model,                          # model being run\n",
    "        dummy_input,                    # model input (or a tuple for multiple inputs)\n",
    "        filepath,                       # where to save the model\n",
    "        export_params=True,             # store the trained parameter weights inside the model file\n",
    "        opset_version=11,               # the ONNX version to export the model to\n",
    "        do_constant_folding=True,       # whether to execute constant folding for optimization\n",
    "        input_names=['input'],          # the model's input names\n",
    "        output_names=['output'],        # the model's output names\n",
    "        dynamic_axes={'input': {0: 'batch_size'},    # variable length axes\n",
    "                     'output': {0: 'batch_size'}}\n",
    "    )\n",
    "    print(f\"Model exported to ONNX: {filepath}\")\n",
    "\n",
    "def load_onnx_model(filepath='d:/Desktop/ai/even_odd_model.onnx'):\n",
    "    \"\"\"Load and create ONNX runtime session\"\"\"\n",
    "    try:\n",
    "        ort_session = ort.InferenceSession(filepath)\n",
    "        print(f\"ONNX model loaded from: {filepath}\")\n",
    "        return ort_session\n",
    "    except FileNotFoundError:\n",
    "        print(f\"ONNX model file not found at: {filepath}\")\n",
    "        return None\n",
    "\n",
    "def predict_with_onnx(ort_session, number):\n",
    "    \"\"\"Make prediction using ONNX model\"\"\"\n",
    "    # Use the same feature engineering as training\n",
    "    last_digit = number % 10\n",
    "    is_odd_digit = last_digit % 2\n",
    "    normalized_last_digit = last_digit / 9.0\n",
    "    \n",
    "    # Create the same features as training\n",
    "    features = np.array([[normalized_last_digit, is_odd_digit, last_digit / 10.0]], dtype=np.float32)\n",
    "    \n",
    "    # Run inference\n",
    "    ort_inputs = {ort_session.get_inputs()[0].name: features}\n",
    "    ort_outputs = ort_session.run(None, ort_inputs)\n",
    "    prediction = ort_outputs[0][0][0]\n",
    "    \n",
    "    if prediction > 0.5:\n",
    "        return \"odd\"\n",
    "    else:\n",
    "        return \"even\"\n",
    "\n",
    "def load_model(filepath='d:/Desktop/ai/even_odd_model.pth'):\n",
    "    \"\"\"Load a trained model from file\"\"\"\n",
    "    try:\n",
    "        checkpoint = torch.load(filepath)\n",
    "        model = EvenOddModel()\n",
    "        model.load_state_dict(checkpoint['model_state_dict'])\n",
    "        model.eval()\n",
    "        print(f\"Model loaded from: {filepath}\")\n",
    "        return model\n",
    "    except FileNotFoundError:\n",
    "        print(f\"Model file not found at: {filepath}\")\n",
    "        return None"
   ]
  },
  {
   "cell_type": "markdown",
   "id": "86f662ba",
   "metadata": {},
   "source": [
    "## Save Trained Model\n",
    "Save the trained model to disk for future use.\n"
   ]
  },
  {
   "cell_type": "code",
   "execution_count": 15,
   "id": "a9d30cc8",
   "metadata": {},
   "outputs": [
    {
     "name": "stdout",
     "output_type": "stream",
     "text": [
      "=== Saving Model ===\n",
      "Model saved to: d:/Desktop/ai/even_odd_model.pth\n",
      "=== Exporting to ONNX ===\n",
      "Model exported to ONNX: d:/Desktop/ai/even_odd_model.onnx\n",
      "Model saved and exported successfully!\n",
      "=== Loading PyTorch Model Demo ===\n",
      "Model loaded from: d:/Desktop/ai/even_odd_model.pth\n",
      "PyTorch model loaded successfully!\n",
      "PyTorch model prediction for 7: odd (actual: odd)\n",
      "\n",
      "=== Loading ONNX Model Demo ===\n",
      "ONNX model loaded from: d:/Desktop/ai/even_odd_model.onnx\n",
      "ONNX model loaded successfully!\n",
      "ONNX model prediction for 5: odd (actual: odd)\n"
     ]
    }
   ],
   "source": [
    "# Save the trained model\n",
    "if 'model' in locals():\n",
    "    print(\"=== Saving Model ===\")\n",
    "    save_model(model)\n",
    "    \n",
    "    # Export to ONNX\n",
    "    print(\"=== Exporting to ONNX ===\")\n",
    "    export_to_onnx(model)\n",
    "    print(\"Model saved and exported successfully!\")\n",
    "else:\n",
    "    print(\"Please train the model first.\")\n",
    "\n",
    "## Load Model\n",
    "##Load a previously saved model from disk.\n",
    "\n",
    "# Load a saved model (optional - for demonstration)\n",
    "print(\"=== Loading PyTorch Model Demo ===\")\n",
    "loaded_model = load_model()\n",
    "if loaded_model is not None:\n",
    "    print(\"PyTorch model loaded successfully!\")\n",
    "    \n",
    "    # Test the loaded model\n",
    "    test_number = 7\n",
    "    prediction = predict_even_or_odd(loaded_model, test_number)\n",
    "    actual = \"odd\" if test_number % 2 == 1 else \"even\"\n",
    "    print(f\"PyTorch model prediction for {test_number}: {prediction} (actual: {actual})\")\n",
    "\n",
    "# Load and test ONNX model\n",
    "print(\"\\n=== Loading ONNX Model Demo ===\")\n",
    "onnx_session = load_onnx_model()\n",
    "if onnx_session is not None:\n",
    "    print(\"ONNX model loaded successfully!\")\n",
    "    \n",
    "    # Test the ONNX model\n",
    "    test_number = 5\n",
    "    onnx_prediction = predict_with_onnx(onnx_session, test_number)\n",
    "    actual = \"odd\" if test_number % 2 == 1 else \"even\"\n",
    "    print(f\"ONNX model prediction for {test_number}: {onnx_prediction} (actual: {actual})\")"
   ]
  }
 ],
 "metadata": {
  "kernelspec": {
   "display_name": ".venv (3.12.10)",
   "language": "python",
   "name": "python3"
  },
  "language_info": {
   "codemirror_mode": {
    "name": "ipython",
    "version": 3
   },
   "file_extension": ".py",
   "mimetype": "text/x-python",
   "name": "python",
   "nbconvert_exporter": "python",
   "pygments_lexer": "ipython3",
   "version": "3.12.10"
  }
 },
 "nbformat": 4,
 "nbformat_minor": 5
}
